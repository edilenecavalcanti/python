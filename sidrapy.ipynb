{
  "nbformat": 4,
  "nbformat_minor": 0,
  "metadata": {
    "colab": {
      "provenance": [],
      "authorship_tag": "ABX9TyPgciYZRYx2A91oaPN+7W3Z",
      "include_colab_link": true
    },
    "kernelspec": {
      "name": "python3",
      "display_name": "Python 3"
    },
    "language_info": {
      "name": "python"
    }
  },
  "cells": [
    {
      "cell_type": "markdown",
      "metadata": {
        "id": "view-in-github",
        "colab_type": "text"
      },
      "source": [
        "<a href=\"https://colab.research.google.com/github/edilenecavalcanti/python/blob/main/sidrapy.ipynb\" target=\"_parent\"><img src=\"https://colab.research.google.com/assets/colab-badge.svg\" alt=\"Open In Colab\"/></a>"
      ]
    },
    {
      "cell_type": "code",
      "execution_count": null,
      "metadata": {
        "id": "JFpDfZ5kzZLO"
      },
      "outputs": [],
      "source": [
        "#' ---\n",
        "#' título: extração, manipulação e visualização dos dados do SIDRA-IBGE\n",
        "#' ---"
      ]
    },
    {
      "cell_type": "code",
      "source": [
        "# instalando o pacote\n",
        "!pip install -U sidrapy\n",
        "import sidrapy"
      ],
      "metadata": {
        "id": "Tq40cUqST1iG"
      },
      "execution_count": null,
      "outputs": []
    },
    {
      "cell_type": "markdown",
      "source": [
        "[Documentação do sidrapy](https://sidrapy.readthedocs.io/pt-br/latest/modules/table.html)"
      ],
      "metadata": {
        "id": "bjad8eXS0dwN"
      }
    },
    {
      "cell_type": "code",
      "source": [
        "# Tabela 5938 - Produto interno bruto a preços correntes, impostos, líquidos de subsídios, sobre produtos a preços correntes e valor adicionado bruto a preços correntes total e por atividade econômica, e respectivas participações - Referência 2010\n",
        "# PIB de todos os municípios do Brasil em 2021\n",
        "tab_5938 = sidrapy.get_table(\n",
        "    table_code=\"5938\",\n",
        "    territorial_level=\"6\",\n",
        "    ibge_territorial_code=\"all\",\n",
        "    period=\"2021\",\n",
        "    variable = \"37\",\n",
        "    header = 'n')\n",
        "tab_5938"
      ],
      "metadata": {
        "id": "iY8yK9-R-0n_"
      },
      "execution_count": null,
      "outputs": []
    },
    {
      "cell_type": "code",
      "source": [
        "# Criando duas novas colunas: município e UF\n",
        "tab_5938[['municipio', 'UF']] = tab_5938['D1N'].str.split('- ', expand=True)\n",
        "tab_5938"
      ],
      "metadata": {
        "id": "ZW10PEl2B9L8"
      },
      "execution_count": null,
      "outputs": []
    },
    {
      "cell_type": "code",
      "source": [
        "# Filtrando os dados de SC\n",
        "tab_5938_sc = tab_5938.query('UF == \"SC\"')\n",
        "tab_5938_sc"
      ],
      "metadata": {
        "id": "pOL9lUpEGrjO"
      },
      "execution_count": null,
      "outputs": []
    },
    {
      "cell_type": "code",
      "source": [
        "# Tabela 6778 - Número de estabelecimentos agropecuários, por tipologia, existência de energia elétrica, condição do produtor em relação às terras, residência da pessoa que dirige o estabelecimento, grupos de atividade econômica e grupos de área total\n",
        "# Quantidade de estabelecimentos agropecuários, por grupo de atividade econômica, para os municípios de Santa Catarina em 2017\n",
        "tab_6778 = sidrapy.table.get_table(\n",
        "    table_code: \"6778\",\n",
        "    territorial_level: \"6\",\n",
        "    ibge_territorial_code: \"42\",\n",
        "    variable: \"183\",\n",
        "    classification: \"c289\",\n",
        "    categories: \"46302\",\n",
        "    period: \"2017\"\n",
        ")\n",
        "tab_6778"
      ],
      "metadata": {
        "id": "617bsJCwIGcu"
      },
      "execution_count": null,
      "outputs": []
    }
  ]
}